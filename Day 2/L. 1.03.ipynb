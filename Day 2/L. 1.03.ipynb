{
 "cells": [
  {
   "cell_type": "code",
   "execution_count": 2,
   "metadata": {
    "id": "fBd3kp6yBBsn"
   },
   "outputs": [],
   "source": [
    "import pandas as pd  # keywords are highlighted in green, other strings in red, etc.\n",
    "import numpy as np"
   ]
  },
  {
   "cell_type": "code",
   "execution_count": 12,
   "metadata": {
    "id": "y5gfMf6gk9Zb"
   },
   "outputs": [
    {
     "data": {
      "text/html": [
       "<div>\n",
       "<style scoped>\n",
       "    .dataframe tbody tr th:only-of-type {\n",
       "        vertical-align: middle;\n",
       "    }\n",
       "\n",
       "    .dataframe tbody tr th {\n",
       "        vertical-align: top;\n",
       "    }\n",
       "\n",
       "    .dataframe thead th {\n",
       "        text-align: right;\n",
       "    }\n",
       "</style>\n",
       "<table border=\"1\" class=\"dataframe\">\n",
       "  <thead>\n",
       "    <tr style=\"text-align: right;\">\n",
       "      <th></th>\n",
       "      <th>Country</th>\n",
       "      <th>Region</th>\n",
       "    </tr>\n",
       "  </thead>\n",
       "  <tbody>\n",
       "    <tr>\n",
       "      <th>0</th>\n",
       "      <td>Algeria</td>\n",
       "      <td>AFRICA</td>\n",
       "    </tr>\n",
       "    <tr>\n",
       "      <th>1</th>\n",
       "      <td>Angola</td>\n",
       "      <td>AFRICA</td>\n",
       "    </tr>\n",
       "    <tr>\n",
       "      <th>2</th>\n",
       "      <td>Benin</td>\n",
       "      <td>AFRICA</td>\n",
       "    </tr>\n",
       "    <tr>\n",
       "      <th>3</th>\n",
       "      <td>Botswana</td>\n",
       "      <td>AFRICA</td>\n",
       "    </tr>\n",
       "    <tr>\n",
       "      <th>4</th>\n",
       "      <td>Burkina</td>\n",
       "      <td>AFRICA</td>\n",
       "    </tr>\n",
       "  </tbody>\n",
       "</table>\n",
       "</div>"
      ],
      "text/plain": [
       "    Country  Region\n",
       "0   Algeria  AFRICA\n",
       "1    Angola  AFRICA\n",
       "2     Benin  AFRICA\n",
       "3  Botswana  AFRICA\n",
       "4   Burkina  AFRICA"
      ]
     },
     "metadata": {},
     "output_type": "display_data"
    }
   ],
   "source": [
    "import pandas as pd\n",
    "import io\n",
    "import requests\n",
    "url=\"https://raw.githubusercontent.com/cs109/2014_data/master/countries.csv\"\n",
    "s=requests.get(url).content\n",
    "c=pd.read_csv(io.StringIO(s.decode('utf-8')))\n",
    "display(c.head())"
   ]
  },
  {
   "cell_type": "code",
   "execution_count": 5,
   "metadata": {
    "id": "t_2FiWNjBYo3",
    "scrolled": false
   },
   "outputs": [
    {
     "data": {
      "text/html": [
       "<div>\n",
       "<style scoped>\n",
       "    .dataframe tbody tr th:only-of-type {\n",
       "        vertical-align: middle;\n",
       "    }\n",
       "\n",
       "    .dataframe tbody tr th {\n",
       "        vertical-align: top;\n",
       "    }\n",
       "\n",
       "    .dataframe thead th {\n",
       "        text-align: right;\n",
       "    }\n",
       "</style>\n",
       "<table border=\"1\" class=\"dataframe\">\n",
       "  <thead>\n",
       "    <tr style=\"text-align: right;\">\n",
       "      <th></th>\n",
       "      <th>CONTROLN</th>\n",
       "      <th>STATE</th>\n",
       "      <th>GENDER</th>\n",
       "      <th>HV1</th>\n",
       "      <th>IC1</th>\n",
       "      <th>IC4</th>\n",
       "      <th>HVP1</th>\n",
       "      <th>IC5</th>\n",
       "      <th>POBC1</th>\n",
       "      <th>POBC2</th>\n",
       "      <th>IC2</th>\n",
       "      <th>IC3</th>\n",
       "      <th>AVGGIFT</th>\n",
       "      <th>TCODE</th>\n",
       "      <th>DOB</th>\n",
       "      <th>DOMAIN</th>\n",
       "      <th>TARGET_D</th>\n",
       "    </tr>\n",
       "  </thead>\n",
       "  <tbody>\n",
       "    <tr>\n",
       "      <th>0</th>\n",
       "      <td>44060</td>\n",
       "      <td>FL</td>\n",
       "      <td>M</td>\n",
       "      <td>AAA896</td>\n",
       "      <td>392</td>\n",
       "      <td>520.0</td>\n",
       "      <td>7</td>\n",
       "      <td>21975</td>\n",
       "      <td>6</td>\n",
       "      <td>16</td>\n",
       "      <td>430.0</td>\n",
       "      <td>466</td>\n",
       "      <td>28.000000</td>\n",
       "      <td>1</td>\n",
       "      <td>1901</td>\n",
       "      <td>C2</td>\n",
       "      <td>100.0</td>\n",
       "    </tr>\n",
       "    <tr>\n",
       "      <th>1</th>\n",
       "      <td>96093</td>\n",
       "      <td>IL</td>\n",
       "      <td>M</td>\n",
       "      <td>537.00</td>\n",
       "      <td>365</td>\n",
       "      <td>473.0</td>\n",
       "      <td>0</td>\n",
       "      <td>19387</td>\n",
       "      <td>1</td>\n",
       "      <td>89</td>\n",
       "      <td>415.0</td>\n",
       "      <td>410</td>\n",
       "      <td>5.666667</td>\n",
       "      <td>0</td>\n",
       "      <td>0</td>\n",
       "      <td>T2</td>\n",
       "      <td>7.0</td>\n",
       "    </tr>\n",
       "    <tr>\n",
       "      <th>2</th>\n",
       "      <td>43333</td>\n",
       "      <td>FL</td>\n",
       "      <td>F</td>\n",
       "      <td>725.00</td>\n",
       "      <td>301</td>\n",
       "      <td>436.0</td>\n",
       "      <td>3</td>\n",
       "      <td>18837</td>\n",
       "      <td>11</td>\n",
       "      <td>17</td>\n",
       "      <td>340.0</td>\n",
       "      <td>361</td>\n",
       "      <td>4.111111</td>\n",
       "      <td>0</td>\n",
       "      <td>2501</td>\n",
       "      <td>C2</td>\n",
       "      <td>5.0</td>\n",
       "    </tr>\n",
       "    <tr>\n",
       "      <th>3</th>\n",
       "      <td>21885</td>\n",
       "      <td>NC</td>\n",
       "      <td>M</td>\n",
       "      <td>AAA1095</td>\n",
       "      <td>401</td>\n",
       "      <td>413.0</td>\n",
       "      <td>7</td>\n",
       "      <td>14014</td>\n",
       "      <td>1</td>\n",
       "      <td>74</td>\n",
       "      <td>407.0</td>\n",
       "      <td>399</td>\n",
       "      <td>27.277778</td>\n",
       "      <td>0</td>\n",
       "      <td>2208</td>\n",
       "      <td>T2</td>\n",
       "      <td>38.0</td>\n",
       "    </tr>\n",
       "    <tr>\n",
       "      <th>4</th>\n",
       "      <td>190108</td>\n",
       "      <td>FL</td>\n",
       "      <td>F</td>\n",
       "      <td>995.00</td>\n",
       "      <td>252</td>\n",
       "      <td>348.0</td>\n",
       "      <td>0</td>\n",
       "      <td>17991</td>\n",
       "      <td>5</td>\n",
       "      <td>6</td>\n",
       "      <td>280.0</td>\n",
       "      <td>316</td>\n",
       "      <td>6.000000</td>\n",
       "      <td>28</td>\n",
       "      <td>0</td>\n",
       "      <td>C2</td>\n",
       "      <td>5.0</td>\n",
       "    </tr>\n",
       "  </tbody>\n",
       "</table>\n",
       "</div>"
      ],
      "text/plain": [
       "   CONTROLN STATE GENDER      HV1  IC1    IC4  HVP1    IC5  POBC1  POBC2  \\\n",
       "0     44060    FL      M   AAA896  392  520.0     7  21975      6     16   \n",
       "1     96093    IL      M   537.00  365  473.0     0  19387      1     89   \n",
       "2     43333    FL      F   725.00  301  436.0     3  18837     11     17   \n",
       "3     21885    NC      M  AAA1095  401  413.0     7  14014      1     74   \n",
       "4    190108    FL      F   995.00  252  348.0     0  17991      5      6   \n",
       "\n",
       "     IC2  IC3    AVGGIFT  TCODE   DOB DOMAIN  TARGET_D  \n",
       "0  430.0  466  28.000000      1  1901     C2     100.0  \n",
       "1  415.0  410   5.666667      0     0     T2       7.0  \n",
       "2  340.0  361   4.111111      0  2501     C2       5.0  \n",
       "3  407.0  399  27.277778      0  2208     T2      38.0  \n",
       "4  280.0  316   6.000000     28     0     C2       5.0  "
      ]
     },
     "metadata": {},
     "output_type": "display_data"
    },
    {
     "data": {
      "text/html": [
       "<div>\n",
       "<style scoped>\n",
       "    .dataframe tbody tr th:only-of-type {\n",
       "        vertical-align: middle;\n",
       "    }\n",
       "\n",
       "    .dataframe tbody tr th {\n",
       "        vertical-align: top;\n",
       "    }\n",
       "\n",
       "    .dataframe thead th {\n",
       "        text-align: right;\n",
       "    }\n",
       "</style>\n",
       "<table border=\"1\" class=\"dataframe\">\n",
       "  <thead>\n",
       "    <tr style=\"text-align: right;\">\n",
       "      <th></th>\n",
       "      <th>CONTROLN</th>\n",
       "      <th>STATE</th>\n",
       "      <th>GENDER</th>\n",
       "      <th>HV1</th>\n",
       "      <th>IC1</th>\n",
       "      <th>IC4</th>\n",
       "      <th>HVP1</th>\n",
       "      <th>IC5</th>\n",
       "      <th>POBC1</th>\n",
       "      <th>POBC2</th>\n",
       "      <th>IC2</th>\n",
       "      <th>IC3</th>\n",
       "      <th>AVGGIFT</th>\n",
       "      <th>TCODE</th>\n",
       "      <th>DOB</th>\n",
       "      <th>DOMAIN</th>\n",
       "      <th>TARGET_D</th>\n",
       "    </tr>\n",
       "  </thead>\n",
       "  <tbody>\n",
       "    <tr>\n",
       "      <th>1002</th>\n",
       "      <td>114721</td>\n",
       "      <td>OK</td>\n",
       "      <td>NaN</td>\n",
       "      <td>1040</td>\n",
       "      <td>472</td>\n",
       "      <td>656.0</td>\n",
       "      <td>0</td>\n",
       "      <td>26962</td>\n",
       "      <td>2</td>\n",
       "      <td>56</td>\n",
       "      <td>609.0</td>\n",
       "      <td>579</td>\n",
       "      <td>11.666667</td>\n",
       "      <td>0</td>\n",
       "      <td>0</td>\n",
       "      <td>C2</td>\n",
       "      <td>15.0</td>\n",
       "    </tr>\n",
       "    <tr>\n",
       "      <th>1003</th>\n",
       "      <td>149152</td>\n",
       "      <td>CA</td>\n",
       "      <td>M</td>\n",
       "      <td>4507</td>\n",
       "      <td>842</td>\n",
       "      <td>962.0</td>\n",
       "      <td>95</td>\n",
       "      <td>54642</td>\n",
       "      <td>17</td>\n",
       "      <td>50</td>\n",
       "      <td>1004.0</td>\n",
       "      <td>893</td>\n",
       "      <td>20.000000</td>\n",
       "      <td>1</td>\n",
       "      <td>4401</td>\n",
       "      <td>S1</td>\n",
       "      <td>20.0</td>\n",
       "    </tr>\n",
       "    <tr>\n",
       "      <th>1004</th>\n",
       "      <td>959</td>\n",
       "      <td>IA</td>\n",
       "      <td>F</td>\n",
       "      <td>586</td>\n",
       "      <td>349</td>\n",
       "      <td>465.0</td>\n",
       "      <td>1</td>\n",
       "      <td>15304</td>\n",
       "      <td>1</td>\n",
       "      <td>77</td>\n",
       "      <td>413.0</td>\n",
       "      <td>404</td>\n",
       "      <td>7.300000</td>\n",
       "      <td>0</td>\n",
       "      <td>4404</td>\n",
       "      <td>C2</td>\n",
       "      <td>10.0</td>\n",
       "    </tr>\n",
       "    <tr>\n",
       "      <th>1005</th>\n",
       "      <td>179563</td>\n",
       "      <td>WA</td>\n",
       "      <td>male</td>\n",
       "      <td>842</td>\n",
       "      <td>420</td>\n",
       "      <td>494.0</td>\n",
       "      <td>2</td>\n",
       "      <td>12894</td>\n",
       "      <td>41</td>\n",
       "      <td>24</td>\n",
       "      <td>419.0</td>\n",
       "      <td>476</td>\n",
       "      <td>16.400000</td>\n",
       "      <td>1</td>\n",
       "      <td>5001</td>\n",
       "      <td>S2</td>\n",
       "      <td>23.0</td>\n",
       "    </tr>\n",
       "    <tr>\n",
       "      <th>1006</th>\n",
       "      <td>41243</td>\n",
       "      <td>FL</td>\n",
       "      <td>F</td>\n",
       "      <td>556</td>\n",
       "      <td>246</td>\n",
       "      <td>330.0</td>\n",
       "      <td>0</td>\n",
       "      <td>10272</td>\n",
       "      <td>2</td>\n",
       "      <td>56</td>\n",
       "      <td>277.0</td>\n",
       "      <td>292</td>\n",
       "      <td>9.818182</td>\n",
       "      <td>2</td>\n",
       "      <td>2201</td>\n",
       "      <td>S2</td>\n",
       "      <td>12.0</td>\n",
       "    </tr>\n",
       "  </tbody>\n",
       "</table>\n",
       "</div>"
      ],
      "text/plain": [
       "      CONTROLN STATE GENDER   HV1  IC1    IC4  HVP1    IC5  POBC1  POBC2  \\\n",
       "1002    114721    OK    NaN  1040  472  656.0     0  26962      2     56   \n",
       "1003    149152    CA      M  4507  842  962.0    95  54642     17     50   \n",
       "1004       959    IA      F   586  349  465.0     1  15304      1     77   \n",
       "1005    179563    WA   male   842  420  494.0     2  12894     41     24   \n",
       "1006     41243    FL      F   556  246  330.0     0  10272      2     56   \n",
       "\n",
       "         IC2  IC3    AVGGIFT  TCODE   DOB DOMAIN  TARGET_D  \n",
       "1002   609.0  579  11.666667      0     0     C2      15.0  \n",
       "1003  1004.0  893  20.000000      1  4401     S1      20.0  \n",
       "1004   413.0  404   7.300000      0  4404     C2      10.0  \n",
       "1005   419.0  476  16.400000      1  5001     S2      23.0  \n",
       "1006   277.0  292   9.818182      2  2201     S2      12.0  "
      ]
     },
     "metadata": {},
     "output_type": "display_data"
    },
    {
     "data": {
      "text/plain": [
       "(1007, 17)"
      ]
     },
     "execution_count": 5,
     "metadata": {},
     "output_type": "execute_result"
    }
   ],
   "source": [
    "# Reading data into a DataFrame\n",
    "file1 = pd.read_csv('file1.csv')\n",
    "display(file1.head())\n",
    "display(file1.tail())\n",
    "file1.shape\n"
   ]
  },
  {
   "cell_type": "code",
   "execution_count": null,
   "metadata": {
    "id": "bLzJ8E7Qk9Zd"
   },
   "outputs": [],
   "source": [
    "file1"
   ]
  },
  {
   "cell_type": "code",
   "execution_count": null,
   "metadata": {
    "id": "CF-BMcTQBBst"
   },
   "outputs": [],
   "source": [
    "file2 = pd.read_csv('file2.txt')  # what is happening?\n",
    "file2.shape"
   ]
  },
  {
   "cell_type": "code",
   "execution_count": null,
   "metadata": {
    "id": "wuX2gv3GBBst"
   },
   "outputs": [],
   "source": [
    "file2 = pd.read_csv('file2.txt', sep='\\t') # | \\ / , \\t\n",
    "file2.head()"
   ]
  },
  {
   "cell_type": "code",
   "execution_count": null,
   "metadata": {
    "id": "2jWyViscBBsu"
   },
   "outputs": [],
   "source": [
    "# Data blending\n",
    "column_names = file1.columns\n",
    "column_names"
   ]
  },
  {
   "cell_type": "code",
   "execution_count": null,
   "metadata": {
    "id": "E564Nk3MBBsu"
   },
   "outputs": [],
   "source": [
    "data = pd.concat([file1, file2], axis=0) #discuss axis here\n",
    "data.shape\n",
    "data"
   ]
  },
  {
   "cell_type": "code",
   "execution_count": null,
   "metadata": {
    "id": "_4tk2nQ5DRsp"
   },
   "outputs": [],
   "source": [
    "# weird_data = pd.concat([file1, file2], axis=1) #axis wrong\n",
    "# weird_data"
   ]
  },
  {
   "cell_type": "code",
   "execution_count": null,
   "metadata": {
    "id": "KwYSBw09k9Zg"
   },
   "outputs": [],
   "source": [
    "data.columns[16].lower()"
   ]
  },
  {
   "cell_type": "code",
   "execution_count": null,
   "metadata": {
    "id": "sNj7wLxRBBsv"
   },
   "outputs": [],
   "source": [
    "cols = []\n",
    "for i in range(len(data.columns)):\n",
    "    cols.append(data.columns[i].lower())\n",
    "data.columns = cols\n",
    "\n",
    "# alternative for using range(len(list)) in the for loop:\n",
    "cols = []\n",
    "for column in data.columns:\n",
    "    cols.append(column.lower())\n",
    "data.columns = cols\n",
    "\n",
    "# renaming columns\n",
    "data = data.rename(columns={'controln':'id',\n",
    "                            'hv1':'median_home_val', \n",
    "                            'ic1':'median_household_income'})\n",
    "data.head()\n",
    "# #data.shape"
   ]
  },
  {
   "cell_type": "code",
   "execution_count": null,
   "metadata": {
    "id": "KENbDlQhBBsv"
   },
   "outputs": [],
   "source": [
    "#Activity 1\n"
   ]
  },
  {
   "cell_type": "code",
   "execution_count": null,
   "metadata": {
    "id": "ZHYPIl1xk9Zh"
   },
   "outputs": [],
   "source": []
  },
  {
   "cell_type": "code",
   "execution_count": null,
   "metadata": {
    "id": "4jfoj_0rBBsv"
   },
   "outputs": [],
   "source": [
    "\n"
   ]
  },
  {
   "cell_type": "code",
   "execution_count": null,
   "metadata": {
    "id": "z37OIl4lBBsw"
   },
   "outputs": [],
   "source": [
    "\n",
    "#End of Activity 1"
   ]
  },
  {
   "cell_type": "code",
   "execution_count": null,
   "metadata": {
    "id": "2h0v2cP_GkE9"
   },
   "outputs": [],
   "source": [
    "data.head()"
   ]
  },
  {
   "cell_type": "code",
   "execution_count": null,
   "metadata": {
    "id": "nuwThGBOGhEt"
   },
   "outputs": [],
   "source": [
    "#slicing\n",
    "data.loc[[0,1,2],['id','state']]"
   ]
  },
  {
   "cell_type": "code",
   "execution_count": null,
   "metadata": {
    "id": "IkfC627DHAc-"
   },
   "outputs": [],
   "source": [
    "#slicing\n",
    "data.loc[[0,1,2],:]"
   ]
  },
  {
   "cell_type": "code",
   "execution_count": null,
   "metadata": {
    "id": "8QYDxFRXHH1V"
   },
   "outputs": [],
   "source": [
    "#slicing\n",
    "data.loc[:,['id','state']]"
   ]
  },
  {
   "cell_type": "code",
   "execution_count": null,
   "metadata": {
    "id": "dp-g3x-bHMMv"
   },
   "outputs": [],
   "source": [
    "#slicing shortcut\n",
    "data[['id','state']]"
   ]
  },
  {
   "cell_type": "code",
   "execution_count": null,
   "metadata": {
    "id": "pXafuJgLHSl1"
   },
   "outputs": [],
   "source": [
    "#also useful to reorder columns\n",
    "data[['state','id']]"
   ]
  },
  {
   "cell_type": "code",
   "execution_count": null,
   "metadata": {
    "id": "TK6CMcqhk9Zn"
   },
   "outputs": [],
   "source": [
    "data.head()"
   ]
  },
  {
   "cell_type": "code",
   "execution_count": null,
   "metadata": {
    "id": "58nQFBWPEAk3"
   },
   "outputs": [],
   "source": [
    "#another shortcut\n",
    "data['gender']"
   ]
  },
  {
   "cell_type": "code",
   "execution_count": null,
   "metadata": {
    "id": "6xIBmseMFmeO"
   },
   "outputs": [],
   "source": [
    "#watch out for mutability\n",
    "just_gender = data['gender']\n",
    "just_gender[1012]\n",
    "#just_gender"
   ]
  },
  {
   "cell_type": "code",
   "execution_count": null,
   "metadata": {
    "id": "MIQzhnrpHo3-"
   },
   "outputs": [],
   "source": [
    "just_gender[1012] = 'F'\n",
    "just_gender"
   ]
  },
  {
   "cell_type": "code",
   "execution_count": null,
   "metadata": {
    "id": "bY979SVjHs9V"
   },
   "outputs": [],
   "source": [
    "#whoah!\n",
    "data"
   ]
  },
  {
   "cell_type": "code",
   "execution_count": null,
   "metadata": {
    "id": "AoskWyxoIAZG"
   },
   "outputs": [],
   "source": [
    "just_gender_copied = data['gender'].copy()\n",
    "just_gender_copied[1014]"
   ]
  },
  {
   "cell_type": "code",
   "execution_count": null,
   "metadata": {
    "id": "XBAbuiK0IHrV"
   },
   "outputs": [],
   "source": [
    "just_gender_copied[1014] = 'F'\n",
    "just_gender_copied"
   ]
  },
  {
   "cell_type": "code",
   "execution_count": null,
   "metadata": {
    "id": "T9YCoOWSILYj"
   },
   "outputs": [],
   "source": [
    "#Now we have what we want:\n",
    "data"
   ]
  },
  {
   "cell_type": "code",
   "execution_count": null,
   "metadata": {
    "id": "Ielz0c6xIPY7"
   },
   "outputs": [],
   "source": [
    "#operations between columns\n",
    "#% income donated\n",
    "data['target_d']/data['median_household_income']"
   ]
  },
  {
   "cell_type": "code",
   "execution_count": null,
   "metadata": {
    "id": "15R_Ly-FI3yX"
   },
   "outputs": [],
   "source": [
    "#new columns\n",
    "data['percent_income_donated'] = data['target_d']/data['median_household_income']\n",
    "data.head()"
   ]
  },
  {
   "cell_type": "code",
   "execution_count": null,
   "metadata": {
    "id": "ce3wTK_SI_gW"
   },
   "outputs": [],
   "source": [
    "#boolean masks\n",
    "data['very_generous'] = data['percent_income_donated']>0.25\n",
    "data.head()"
   ]
  },
  {
   "cell_type": "code",
   "execution_count": null,
   "metadata": {
    "id": "wg-OmDq2JuuV"
   },
   "outputs": [],
   "source": [
    "#filtering!\n",
    "data[data['very_generous']==True]"
   ]
  },
  {
   "cell_type": "code",
   "execution_count": null,
   "metadata": {
    "id": "qQfguqD5KEQ9"
   },
   "outputs": [],
   "source": [
    "#filtering!\n",
    "data[data['target_d']==100]"
   ]
  },
  {
   "cell_type": "code",
   "execution_count": null,
   "metadata": {
    "id": "5Mg9l0T7KSQd"
   },
   "outputs": [],
   "source": [
    "#combining filters\n",
    "#filtering!\n",
    "data[(data['target_d']==100) & (data['very_generous']) ]"
   ]
  },
  {
   "cell_type": "code",
   "execution_count": null,
   "metadata": {
    "id": "nRFfPnV-k9Zy"
   },
   "outputs": [],
   "source": [
    "data[(data['state'].isin(['FL','Florida']))  & (data['avggift']<50)]"
   ]
  },
  {
   "cell_type": "code",
   "execution_count": null,
   "metadata": {
    "id": "XTxGI3dOk9Zz"
   },
   "outputs": [],
   "source": []
  },
  {
   "cell_type": "code",
   "execution_count": null,
   "metadata": {
    "id": "AOGDd7_pJNbk"
   },
   "outputs": [],
   "source": [
    "# deleting columns: how to\n",
    "data = data.drop(['tcode','percent_income_donated','very_generous'], axis=1)\n",
    "data.head()"
   ]
  },
  {
   "cell_type": "code",
   "execution_count": null,
   "metadata": {
    "id": "pNXIHUN6k9Z0"
   },
   "outputs": [],
   "source": [
    "data1 = data.copy()"
   ]
  },
  {
   "cell_type": "code",
   "execution_count": null,
   "metadata": {
    "id": "W2pRi9JXk9Z0"
   },
   "outputs": [],
   "source": [
    "data1 = data1.drop([0,1], axis=0)\n",
    "data1.head()"
   ]
  },
  {
   "cell_type": "code",
   "execution_count": null,
   "metadata": {
    "id": "pj3DJiIOk9Z1"
   },
   "outputs": [],
   "source": [
    "#data1.loc[[0,1],:]"
   ]
  },
  {
   "cell_type": "code",
   "execution_count": null,
   "metadata": {
    "id": "7lKRnw8VBBsw"
   },
   "outputs": [],
   "source": [
    "# # deleting columns: how to\n",
    "# data = data.drop(['tcode'], axis =1) # Explain the argument axis, when axis is 0 and 1\n",
    "\n",
    "# # Rearranging columns: how to\n",
    "data = data[['id', 'state', 'gender', 'median_home_val', 'median_household_income', 'ic2', 'ic3', 'ic4', 'ic5', 'avggift', 'domain', 'dob', 'target_d']]"
   ]
  },
  {
   "cell_type": "code",
   "execution_count": null,
   "metadata": {
    "id": "5gCIE3x8k9Z2"
   },
   "outputs": [],
   "source": [
    "data.head()"
   ]
  },
  {
   "cell_type": "code",
   "execution_count": null,
   "metadata": {
    "id": "uBjdXu55BBsw"
   },
   "outputs": [],
   "source": [
    "#Activity 2\n",
    "#1"
   ]
  },
  {
   "cell_type": "code",
   "execution_count": null,
   "metadata": {
    "id": "SZVanv6eBBsx"
   },
   "outputs": [],
   "source": [
    "# 2\n"
   ]
  },
  {
   "cell_type": "code",
   "execution_count": null,
   "metadata": {
    "id": "aiQmgWieBBsx"
   },
   "outputs": [],
   "source": [
    "# 3\n",
    "\n",
    "\n"
   ]
  },
  {
   "cell_type": "code",
   "execution_count": null,
   "metadata": {
    "id": "NgVAHy2yBBsx"
   },
   "outputs": [],
   "source": [
    "# 4\n"
   ]
  },
  {
   "cell_type": "code",
   "execution_count": null,
   "metadata": {
    "id": "Cscu_6cwBBsx"
   },
   "outputs": [],
   "source": [
    "# 5\n",
    "\n",
    "# End of Activity 2"
   ]
  },
  {
   "cell_type": "code",
   "execution_count": null,
   "metadata": {
    "id": "13MBt48uBBsy"
   },
   "outputs": [],
   "source": [
    "#filter and reset the index\n",
    "# important to play with the code and check the output\n",
    "filtered = data[data['gender']=='M']  # Lets say that we are working on this filtered data\n",
    "filtered"
   ]
  },
  {
   "cell_type": "code",
   "execution_count": null,
   "metadata": {
    "id": "NRkXGK4wk9Z6"
   },
   "outputs": [],
   "source": [
    "data.loc[1]"
   ]
  },
  {
   "cell_type": "code",
   "execution_count": null,
   "metadata": {
    "id": "9ZOWtW_iqd0f"
   },
   "outputs": [],
   "source": [
    "# issue on the index\n",
    "#filtered.loc[1]\n",
    "filtered.loc[3]"
   ]
  },
  {
   "cell_type": "code",
   "execution_count": null,
   "metadata": {
    "id": "mYX74YWWBBsy"
   },
   "outputs": [],
   "source": [
    "filtered = filtered.reset_index(drop=True)\n",
    "filtered= filtered.drop(['index'], axis=1)\n",
    "filtered"
   ]
  },
  {
   "cell_type": "code",
   "execution_count": null,
   "metadata": {
    "id": "UVE3aKP_BBsy"
   },
   "outputs": [],
   "source": [
    "temp = filtered.copy()\n",
    "temp = temp.set_index('state') # This is a dummy case, but indexes should be unique and not nulls, usually auto-increments by 1\n",
    "temp.head()"
   ]
  },
  {
   "cell_type": "code",
   "execution_count": null,
   "metadata": {
    "id": "Yu-3Cw6hk9Z7"
   },
   "outputs": [],
   "source": [
    "filtered[filtered['state']=='FL']"
   ]
  },
  {
   "cell_type": "code",
   "execution_count": null,
   "metadata": {
    "id": "V4c2tVAmBBsy"
   },
   "outputs": [],
   "source": [
    "# Working with indexes\n",
    "filtered[1:4]\n",
    "filtered[['gender', 'ic2', 'ic3']][0:10]\n",
    "filtered.loc[0:10,['gender', 'ic2', 'ic3']]\n",
    "filtered.loc[1:4]\n",
    "# filtered.loc[100]\n",
    "filtered.iloc[1:4]\n",
    "\n"
   ]
  },
  {
   "cell_type": "code",
   "execution_count": null,
   "metadata": {
    "id": "InYo0w9sBBsz"
   },
   "outputs": [],
   "source": [
    "# now, working just on the indexes row,columns\n",
    "filtered.iloc[0:10,0:4]\n",
    "filtered.iloc[[1,2,3,4],[0,2,4]]"
   ]
  },
  {
   "cell_type": "code",
   "execution_count": null,
   "metadata": {
    "id": "KYN2EotFBBsz"
   },
   "outputs": [],
   "source": [
    "#Activity 3\n",
    "# 1 Filter the results where the gender is F \n",
    "#   and store the results in another DataFrame filtered2\n",
    "\n"
   ]
  },
  {
   "cell_type": "code",
   "execution_count": null,
   "metadata": {
    "id": "x_PgPlBhBBsz"
   },
   "outputs": [],
   "source": [
    "# 2 Check the first 10 rows of the DataFrame using the head() function.\n"
   ]
  },
  {
   "cell_type": "code",
   "execution_count": null,
   "metadata": {
    "id": "uGn36gbTBBsz"
   },
   "outputs": [],
   "source": [
    "# 3 Reset the index of filtered2 with and without using the parameter drop=True \n",
    "#   and check the difference in the results.\n"
   ]
  },
  {
   "cell_type": "code",
   "execution_count": null,
   "metadata": {
    "id": "t6BikDI3BBsz"
   },
   "outputs": [],
   "source": [
    "# 4 Show the rows from index number 100 to 200.\n"
   ]
  },
  {
   "cell_type": "code",
   "execution_count": null,
   "metadata": {
    "id": "sOFZ1KagBBs0"
   },
   "outputs": [],
   "source": [
    "# 5 Use iloc to get the first 100 rows and columns with indexes 2,3,4,5.\n",
    "\n",
    "\n",
    "#End of Activity 3"
   ]
  },
  {
   "cell_type": "code",
   "execution_count": null,
   "metadata": {
    "id": "kjyf947yBBs0"
   },
   "outputs": [],
   "source": [
    "# data types\n",
    "data.dtypes\n",
    "# data._get_numeric_data()\n",
    "# data._get_bool_data()\n",
    "# data.select_dtypes(['int64','float64'])"
   ]
  },
  {
   "cell_type": "code",
   "execution_count": null,
   "metadata": {
    "id": "1jRJyOGPBBs0"
   },
   "outputs": [],
   "source": [
    "# correcting data types\n",
    "data['median_home_val'] =  pd.to_numeric(data['median_home_val'], errors='coerce')\n",
    "data['ic5'] =  pd.to_numeric(data['ic5'], errors='coerce')\n",
    "data.head(20)\n",
    "\n",
    "#data._get_numeric_data() # to check if 'median_home_val' and 'ic5' are now listed as numeric data"
   ]
  },
  {
   "cell_type": "code",
   "execution_count": null,
   "metadata": {
    "id": "cV8N3IPNBBs0"
   },
   "outputs": [],
   "source": [
    "# Removing duplicates\n",
    "print(data.shape)\n",
    "data2 = data.copy()\n",
    "data2 = data2.drop_duplicates()  # nb keep argument\n",
    "# #if we want to remove duplicates based on some specific columns\n",
    "# data2 = data2.drop_duplicates(subset=['state','gender', 'ic2', 'ic3'])\n",
    "data2 = data2.drop_duplicates(subset=['state','gender', 'ic2', 'ic3'],keep='last')\n",
    "# #data2\n",
    "print(data2.shape)\n",
    "\n"
   ]
  },
  {
   "cell_type": "code",
   "execution_count": null,
   "metadata": {
    "id": "ZPu4ScxDBBs0"
   },
   "outputs": [],
   "source": [
    "# Activity 4\n",
    "\n",
    "# 1 Check the data types of all the columns in the DataFrame.\n"
   ]
  },
  {
   "cell_type": "code",
   "execution_count": null,
   "metadata": {
    "id": "HzAM0nHJBBs1"
   },
   "outputs": [],
   "source": [
    "# 2 Use select_dtypes() to select all the numerical columns in the DataFrame (both integers and floats).\n"
   ]
  },
  {
   "cell_type": "code",
   "execution_count": null,
   "metadata": {
    "id": "ofBz4B5eBBs1"
   },
   "outputs": [],
   "source": [
    "# 3 Convert the columns that have numerical values (which are now object types) to the numeric type.\n"
   ]
  },
  {
   "cell_type": "code",
   "execution_count": null,
   "metadata": {
    "id": "0oKLygBhBBs1"
   },
   "outputs": [],
   "source": [
    "# 4 Remove duplicates from the DataFrame if any.\n"
   ]
  },
  {
   "cell_type": "code",
   "execution_count": null,
   "metadata": {
    "id": "TQdM5WwEk9Z-"
   },
   "outputs": [],
   "source": []
  }
 ],
 "metadata": {
  "colab": {
   "collapsed_sections": [],
   "name": "L. 1.03.ipynb",
   "provenance": []
  },
  "kernelspec": {
   "display_name": "Python 3 (ipykernel)",
   "language": "python",
   "name": "python3"
  },
  "language_info": {
   "codemirror_mode": {
    "name": "ipython",
    "version": 3
   },
   "file_extension": ".py",
   "mimetype": "text/x-python",
   "name": "python",
   "nbconvert_exporter": "python",
   "pygments_lexer": "ipython3",
   "version": "3.9.12"
  }
 },
 "nbformat": 4,
 "nbformat_minor": 1
}
